{
 "cells": [
  {
   "cell_type": "code",
   "execution_count": 1,
   "metadata": {},
   "outputs": [],
   "source": [
    "import pandas as pd\n",
    "import numpy as np\n",
    "import mailbox\n",
    "import os\n",
    "import re\n",
    "from sklearn.utils import shuffle\n",
    "from urllib.parse import urlparse\n",
    "import string\n",
    "from nltk.stem.wordnet import WordNetLemmatizer\n",
    "from nltk import word_tokenize, pos_tag\n",
    "from nltk.tokenize import sent_tokenize, word_tokenize\n",
    "from nltk.corpus import stopwords\n",
    "from sklearn.feature_extraction.text import TfidfVectorizer\n",
    "from gazpacho import Soup\n",
    "from sklearn.model_selection import train_test_split\n",
    "from sklearn.preprocessing import StandardScaler\n",
    "\n",
    "from sklearn.metrics import accuracy_score\n",
    "from sklearn.metrics import precision_score\n",
    "from sklearn.metrics import recall_score\n",
    "from sklearn.metrics import f1_score\n",
    "\n",
    "import matplotlib.pyplot as plt"
   ]
  },
  {
   "cell_type": "markdown",
   "metadata": {},
   "source": [
    "# 1 Создание таблицы с фишинговыми и обычными email-сообщениями\n",
    "## 1.1 Загрузка обычных сообщений "
   ]
  },
  {
   "cell_type": "code",
   "execution_count": 2,
   "metadata": {},
   "outputs": [],
   "source": [
    "directory = 'easy_ham'\n",
    "files = sorted(os.listdir(directory))\n",
    "hum = mailbox.mbox(f'{directory}/{files[0]}')\n",
    "\n",
    "for file in files[1:]:\n",
    "    with open(f'{directory}/{file}', 'rb') as f:\n",
    "        mbox = mailbox.mboxMessage(f)\n",
    "        hum.add(mbox)\n",
    "        \n",
    "directory = 'ham'\n",
    "files = sorted(os.listdir(directory))\n",
    "for file in files[1:]:\n",
    "    with open(f'{directory}/{file}', 'rb') as f:\n",
    "        mbox = mailbox.mboxMessage(f)\n",
    "        hum.add(mbox)"
   ]
  },
  {
   "cell_type": "code",
   "execution_count": 3,
   "metadata": {},
   "outputs": [
    {
     "data": {
      "text/plain": [
       "6222"
      ]
     },
     "execution_count": 3,
     "metadata": {},
     "output_type": "execute_result"
    }
   ],
   "source": [
    "len(hum)"
   ]
  },
  {
   "cell_type": "markdown",
   "metadata": {},
   "source": [
    "## 1.2 Загрузка фишинговых сообщений"
   ]
  },
  {
   "cell_type": "code",
   "execution_count": 4,
   "metadata": {},
   "outputs": [],
   "source": [
    "phishing1 = mailbox.mbox(\"phishing1.mbox\")\n",
    "phishing2 = mailbox.mbox(\"phishing2.mbox\")\n",
    "phishing3 = mailbox.mbox(\"phishing3.mbox\")\n",
    "phishing4 = mailbox.mbox(\"phishing4.mbox\")\n",
    "phishing5 = mailbox.mbox(\"phishing0.mbox\")"
   ]
  },
  {
   "cell_type": "code",
   "execution_count": 5,
   "metadata": {},
   "outputs": [
    {
     "data": {
      "text/plain": [
       "4117"
      ]
     },
     "execution_count": 5,
     "metadata": {},
     "output_type": "execute_result"
    }
   ],
   "source": [
    "len(phishing1)+len(phishing2)+len(phishing3)+len(phishing4)+len(phishing5)"
   ]
  },
  {
   "cell_type": "markdown",
   "metadata": {},
   "source": [
    "## 1.3 Объединение сообщений в одну таблицу\n"
   ]
  },
  {
   "cell_type": "code",
   "execution_count": 6,
   "metadata": {},
   "outputs": [],
   "source": [
    "# Функция для создания структуры одного сообщения\n",
    "def add(messages, phishing):  \n",
    "    return [{'message': message.get_payload(),\n",
    "             'from': message['From'],\n",
    "             'sub': message['Subject'],\n",
    "             'type': message['Content-Type'],\n",
    "             'replyto': message.get('Reply-To', 'noone'),\n",
    "             'phishing': phishing} for message in messages]"
   ]
  },
  {
   "cell_type": "code",
   "execution_count": 7,
   "metadata": {},
   "outputs": [],
   "source": [
    "# Функция для записи перемешанных данных без пропусков\n",
    "def write_data(data, filename):\n",
    "    df = pd.DataFrame(data)\n",
    "    df = shuffle(df).reset_index(drop=True)\n",
    "    df.dropna(inplace=True)\n",
    "    df.to_csv(filename)"
   ]
  },
  {
   "cell_type": "code",
   "execution_count": 8,
   "metadata": {},
   "outputs": [],
   "source": [
    "df = add(phishing1, 1) + add(hum, 0) + add(phishing2, 1) + add(phishing3, 1) + add(phishing4, 1) + add(phishing5, 1)"
   ]
  },
  {
   "cell_type": "code",
   "execution_count": 9,
   "metadata": {},
   "outputs": [],
   "source": [
    "# Запись таблицы в файл \"df.csv\"\n",
    "write_data(df, 'df.csv')"
   ]
  },
  {
   "cell_type": "markdown",
   "metadata": {},
   "source": [
    "## 1.4 Считывание таблицы из файла"
   ]
  },
  {
   "cell_type": "code",
   "execution_count": 10,
   "metadata": {},
   "outputs": [],
   "source": [
    "df = pd.read_csv('df.csv', index_col=0)"
   ]
  },
  {
   "cell_type": "code",
   "execution_count": 11,
   "metadata": {},
   "outputs": [
    {
     "data": {
      "text/plain": [
       "6211"
      ]
     },
     "execution_count": 11,
     "metadata": {},
     "output_type": "execute_result"
    }
   ],
   "source": [
    "len(df.phishing)"
   ]
  },
  {
   "cell_type": "code",
   "execution_count": 12,
   "metadata": {},
   "outputs": [],
   "source": [
    "df = shuffle(df).reset_index(drop=True)"
   ]
  },
  {
   "cell_type": "code",
   "execution_count": 13,
   "metadata": {},
   "outputs": [
    {
     "name": "stdout",
     "output_type": "stream",
     "text": [
      "<class 'pandas.core.frame.DataFrame'>\n",
      "Int64Index: 6120 entries, 0 to 6210\n",
      "Data columns (total 6 columns):\n",
      " #   Column    Non-Null Count  Dtype \n",
      "---  ------    --------------  ----- \n",
      " 0   message   6120 non-null   object\n",
      " 1   from      6120 non-null   object\n",
      " 2   sub       6120 non-null   object\n",
      " 3   type      6120 non-null   object\n",
      " 4   replyto   6120 non-null   object\n",
      " 5   phishing  6120 non-null   int64 \n",
      "dtypes: int64(1), object(5)\n",
      "memory usage: 334.7+ KB\n"
     ]
    }
   ],
   "source": [
    "df.dropna(inplace=True)\n",
    "df.info()"
   ]
  },
  {
   "cell_type": "markdown",
   "metadata": {},
   "source": [
    "## 1.5 Лематизация слов в тексте сообщения"
   ]
  },
  {
   "cell_type": "code",
   "execution_count": 14,
   "metadata": {},
   "outputs": [],
   "source": [
    "stop_words = set(stopwords.words('english'))\n",
    "punctuation = string.punctuation \n",
    "wordnet_lemmatizer = WordNetLemmatizer()\n",
    "\n",
    "vectorizer = TfidfVectorizer(stop_words=stop_words)"
   ]
  },
  {
   "cell_type": "code",
   "execution_count": 15,
   "metadata": {},
   "outputs": [],
   "source": [
    "def tokenizer(text):\n",
    "    tokens = [ word for sent in sent_tokenize(str(text)) for word in word_tokenize(sent)]\n",
    "    tokens = list(filter(lambda t: t not in punctuation and t.lower() not in stop_words, tokens))\n",
    "    filtered_tokens = [token for token in tokens if re.search('[a-zA-Z]', token)]\n",
    "    filtered_tokens = list(map(lambda token: wordnet_lemmatizer.lemmatize(token.lower()), filtered_tokens))\n",
    "    filtered_tokens = list(filter(lambda t: t not in punctuation, filtered_tokens))\n",
    "    return ' '.join(filtered_tokens)"
   ]
  },
  {
   "cell_type": "code",
   "execution_count": 16,
   "metadata": {},
   "outputs": [],
   "source": [
    "df['clean'] = df.message.map(tokenizer)"
   ]
  },
  {
   "cell_type": "markdown",
   "metadata": {},
   "source": [
    "# 2 Выделение особенностей\n",
    "## 2.1 Поиск ссылок в сообщении"
   ]
  },
  {
   "cell_type": "code",
   "execution_count": 17,
   "metadata": {},
   "outputs": [],
   "source": [
    "# Функция для нахождения всех ссылок (тег) из сообщения\n",
    "def find_anchors(msg):\n",
    "    html = Soup(msg.lower())\n",
    "    a = html.find('a', mode='all')\n",
    "    \n",
    "    res = []\n",
    "\n",
    "    for i in a:\n",
    "        href = i.attrs.get('href', '')\n",
    "        text = i.text\n",
    "        \n",
    "        res.append(dict(text=text, href=href))\n",
    "    return res"
   ]
  },
  {
   "cell_type": "code",
   "execution_count": 18,
   "metadata": {},
   "outputs": [],
   "source": [
    "# Функция для нахождения всех изображений (тег) из сообщения\n",
    "def find_imgs(msg):\n",
    "    html = Soup(msg.lower())\n",
    "    img = html.find('img', mode='all')\n",
    "    \n",
    "    res = []\n",
    "\n",
    "    for i in img:\n",
    "        src = i.attrs.get('src', '')\n",
    "        alt = i.attrs.get('alt', '')\n",
    "\n",
    "        res.append(dict(src=src, alt=alt))\n",
    "    return res"
   ]
  },
  {
   "cell_type": "code",
   "execution_count": 19,
   "metadata": {},
   "outputs": [],
   "source": [
    "# Функция для нахождения всех ссылок из сообщения\n",
    "def find_urls(msg):\n",
    "    msg = str(msg)\n",
    "    urls = re.findall(r\"http[s]?://(?:[a-zA-Z]|[0-9]|[$-_@.&+]|[!*\\(\\),]|(?:%[0-9a-fA-F][0-9a-fA-F]))+\", msg)\n",
    "    anchors = [a['href'] for a in find_anchors(msg)]\n",
    "    return list(set(urls + anchors))"
   ]
  },
  {
   "cell_type": "code",
   "execution_count": 20,
   "metadata": {},
   "outputs": [],
   "source": [
    "# Функция для получения домена отправителя (после символа @)\n",
    "def get_email_domain(string):\n",
    "    domain = re.search(\"@[\\w.]+\", string)\n",
    "    if not domain:\n",
    "        return None\n",
    "    return domain[0]"
   ]
  },
  {
   "cell_type": "code",
   "execution_count": 21,
   "metadata": {},
   "outputs": [],
   "source": [
    "# Функция для получения домена ссылки\n",
    "def get_url_domain(url):\n",
    "    domain = None\n",
    "    if url:\n",
    "        if '@' in url:\n",
    "            domain = get_email_domain(str(url))\n",
    "        else:\n",
    "            parsed_url = urlparse(url)\n",
    "            domain = parsed_url.netloc\n",
    "            if domain[:4] == 'www.':\n",
    "                return domain[4:]\n",
    "    return domain"
   ]
  },
  {
   "cell_type": "code",
   "execution_count": 22,
   "metadata": {},
   "outputs": [
    {
     "data": {
      "text/html": [
       "<div>\n",
       "<style scoped>\n",
       "    .dataframe tbody tr th:only-of-type {\n",
       "        vertical-align: middle;\n",
       "    }\n",
       "\n",
       "    .dataframe tbody tr th {\n",
       "        vertical-align: top;\n",
       "    }\n",
       "\n",
       "    .dataframe thead th {\n",
       "        text-align: right;\n",
       "    }\n",
       "</style>\n",
       "<table border=\"1\" class=\"dataframe\">\n",
       "  <thead>\n",
       "    <tr style=\"text-align: right;\">\n",
       "      <th></th>\n",
       "      <th>message</th>\n",
       "      <th>from</th>\n",
       "      <th>sub</th>\n",
       "      <th>type</th>\n",
       "      <th>replyto</th>\n",
       "      <th>phishing</th>\n",
       "      <th>clean</th>\n",
       "      <th>links</th>\n",
       "    </tr>\n",
       "  </thead>\n",
       "  <tbody>\n",
       "    <tr>\n",
       "      <th>0</th>\n",
       "      <td>&lt;font size=\"2\" face=\"Courier New, Helvetica, s...</td>\n",
       "      <td>\"service@paypal.com\"&lt;service@paypal.com&gt;</td>\n",
       "      <td>Please restore your account access</td>\n",
       "      <td>text/html;\\n\\tcharset=\"Windows-1251\"</td>\n",
       "      <td>noone</td>\n",
       "      <td>1</td>\n",
       "      <td>font size= face= courier new helvetica sans-se...</td>\n",
       "      <td>[https://www.paypal.com/cgi-bin/webscr.php?cmd...</td>\n",
       "    </tr>\n",
       "    <tr>\n",
       "      <th>1</th>\n",
       "      <td>\\nBTW:  I remember messing about with such thi...</td>\n",
       "      <td>Hal DeVore &lt;haldevore@acm.org&gt;</td>\n",
       "      <td>Re: Ringing bell on other computer</td>\n",
       "      <td>text/plain; charset=us-ascii</td>\n",
       "      <td>exmh-users@example.com</td>\n",
       "      <td>0</td>\n",
       "      <td>btw remember messing thing long ago one proble...</td>\n",
       "      <td>[https://listman.redhat.com/mailman/listinfo/e...</td>\n",
       "    </tr>\n",
       "    <tr>\n",
       "      <th>2</th>\n",
       "      <td>&lt;HTML&gt;\\n&lt;HEAD&gt;\\n&lt;TITLE&gt;&lt;/TITLE&gt;\\n&lt;/HEAD&gt;\\n&lt;BOD...</td>\n",
       "      <td>\"PayPal\" &lt;service@paypal.com&gt;</td>\n",
       "      <td>Check the status and history of your account</td>\n",
       "      <td>text/html;\\n\\tcharset=\"Windows-1251\"</td>\n",
       "      <td>&lt;do-not-reply@paypal.com&gt;</td>\n",
       "      <td>1</td>\n",
       "      <td>html head title /title /head body p font face=...</td>\n",
       "      <td>[https://www.paypal.com/&lt;/FONT&gt;&lt;/A&gt;&lt;FONT, http...</td>\n",
       "    </tr>\n",
       "    <tr>\n",
       "      <th>3</th>\n",
       "      <td>[&lt;email.message.Message object at 0x7feb86ded9...</td>\n",
       "      <td>\"Paypal Inc.\" &lt;acc@paypal.com&gt;</td>\n",
       "      <td>IMPORTANT: Update your PayPal records</td>\n",
       "      <td>multipart/alternative;\\n\\tboundary=\"--21164709...</td>\n",
       "      <td>\"Paypal Inc.\" &lt;account@paypal.com&gt;</td>\n",
       "      <td>1</td>\n",
       "      <td>email.message.message object 0x7feb86ded950</td>\n",
       "      <td>[]</td>\n",
       "    </tr>\n",
       "    <tr>\n",
       "      <th>4</th>\n",
       "      <td>I agree w/ ya Tom.  That kind of thinking is S...</td>\n",
       "      <td>CDale &lt;cdale@techmonkeys.net&gt;</td>\n",
       "      <td>Re: Selling Wedded Bliss (was Re: Ouch...)</td>\n",
       "      <td>TEXT/PLAIN; charset=US-ASCII</td>\n",
       "      <td>noone</td>\n",
       "      <td>0</td>\n",
       "      <td>agree w/ ya tom kind thinking idiotic sure gay...</td>\n",
       "      <td>[]</td>\n",
       "    </tr>\n",
       "  </tbody>\n",
       "</table>\n",
       "</div>"
      ],
      "text/plain": [
       "                                             message  \\\n",
       "0  <font size=\"2\" face=\"Courier New, Helvetica, s...   \n",
       "1  \\nBTW:  I remember messing about with such thi...   \n",
       "2  <HTML>\\n<HEAD>\\n<TITLE></TITLE>\\n</HEAD>\\n<BOD...   \n",
       "3  [<email.message.Message object at 0x7feb86ded9...   \n",
       "4  I agree w/ ya Tom.  That kind of thinking is S...   \n",
       "\n",
       "                                       from  \\\n",
       "0  \"service@paypal.com\"<service@paypal.com>   \n",
       "1            Hal DeVore <haldevore@acm.org>   \n",
       "2             \"PayPal\" <service@paypal.com>   \n",
       "3            \"Paypal Inc.\" <acc@paypal.com>   \n",
       "4             CDale <cdale@techmonkeys.net>   \n",
       "\n",
       "                                            sub  \\\n",
       "0            Please restore your account access   \n",
       "1            Re: Ringing bell on other computer   \n",
       "2  Check the status and history of your account   \n",
       "3         IMPORTANT: Update your PayPal records   \n",
       "4    Re: Selling Wedded Bliss (was Re: Ouch...)   \n",
       "\n",
       "                                                type  \\\n",
       "0               text/html;\\n\\tcharset=\"Windows-1251\"   \n",
       "1                       text/plain; charset=us-ascii   \n",
       "2               text/html;\\n\\tcharset=\"Windows-1251\"   \n",
       "3  multipart/alternative;\\n\\tboundary=\"--21164709...   \n",
       "4                       TEXT/PLAIN; charset=US-ASCII   \n",
       "\n",
       "                              replyto  phishing  \\\n",
       "0                               noone         1   \n",
       "1              exmh-users@example.com         0   \n",
       "2           <do-not-reply@paypal.com>         1   \n",
       "3  \"Paypal Inc.\" <account@paypal.com>         1   \n",
       "4                               noone         0   \n",
       "\n",
       "                                               clean  \\\n",
       "0  font size= face= courier new helvetica sans-se...   \n",
       "1  btw remember messing thing long ago one proble...   \n",
       "2  html head title /title /head body p font face=...   \n",
       "3        email.message.message object 0x7feb86ded950   \n",
       "4  agree w/ ya tom kind thinking idiotic sure gay...   \n",
       "\n",
       "                                               links  \n",
       "0  [https://www.paypal.com/cgi-bin/webscr.php?cmd...  \n",
       "1  [https://listman.redhat.com/mailman/listinfo/e...  \n",
       "2  [https://www.paypal.com/</FONT></A><FONT, http...  \n",
       "3                                                 []  \n",
       "4                                                 []  "
      ]
     },
     "execution_count": 22,
     "metadata": {},
     "output_type": "execute_result"
    }
   ],
   "source": [
    "df['links'] = df.message.map(find_urls)\n",
    "df.head()"
   ]
  },
  {
   "cell_type": "markdown",
   "metadata": {},
   "source": [
    "## 2.2 Особенности, связанные с текстом сообщения"
   ]
  },
  {
   "cell_type": "code",
   "execution_count": 23,
   "metadata": {},
   "outputs": [],
   "source": [
    "# Функция возвращает 1, если в сообщении есть теги, иначе 0\n",
    "def body_html(t, msg):\n",
    "    html = Soup(msg.lower())\n",
    "    h = html.find('html', mode='all')\n",
    "    return 1 if 'text/html' in t.lower() or h else 0\n",
    "# Функция возвращает 1, если в сообщении есть тег form, иначе 0\n",
    "def body_form(msg):\n",
    "    html = Soup(msg.lower())\n",
    "    form = html.find('form', mode='all')\n",
    "    return 1 if form else 0\n",
    "# Функция возвращает 1, если в сообщении есть J-код, иначе 0\n",
    "def check_js(msg):\n",
    "    html = Soup(msg.lower())\n",
    "    js = html.find('script', mode='all')\n",
    "    return 1 if js else 0\n",
    "# Функция для подсчета ключевых слов в тексте сообщения\n",
    "def body_words(msg):\n",
    "    num = 0\n",
    "    wordlist = re.sub('[^A-Za-z]', ' ', msg.strip()).lower().split()\n",
    "    for word in key_words:\n",
    "        num += wordlist.count(word)\n",
    "    return num"
   ]
  },
  {
   "cell_type": "code",
   "execution_count": 24,
   "metadata": {},
   "outputs": [],
   "source": [
    "key_words = [\"account\",  \"access\", \"address\", \"authorized\", \"bank\", \"credit\", \"click\", \"complete\", \"here\", \\\n",
    "             \"identity\", \"inconvenience\", \"information\", \"limited\", \"link\", \"log\", \"login\", \"minutes\", \\\n",
    "             \"passcode\", \"password\", \"payment\", \"recently\", \"risk\", \"social\", \"security\", \"service\", \\\n",
    "             \"suspended\", \"theft\", \"update\", \"verify\"]"
   ]
  },
  {
   "cell_type": "code",
   "execution_count": 25,
   "metadata": {},
   "outputs": [],
   "source": [
    "df['body_html'] = df.apply(lambda x: body_html(x['type'], x['message']), axis=1)\n",
    "df['body_form'] =  df.message.map(body_form)\n",
    "df['js'] =  df['message'].map(check_js)\n",
    "df['body_words'] = df.clean.map(body_words)"
   ]
  },
  {
   "cell_type": "code",
   "execution_count": 26,
   "metadata": {},
   "outputs": [
    {
     "name": "stdout",
     "output_type": "stream",
     "text": [
      "<class 'pandas.core.frame.DataFrame'>\n",
      "Int64Index: 6120 entries, 0 to 6210\n",
      "Data columns (total 12 columns):\n",
      " #   Column      Non-Null Count  Dtype \n",
      "---  ------      --------------  ----- \n",
      " 0   message     6120 non-null   object\n",
      " 1   from        6120 non-null   object\n",
      " 2   sub         6120 non-null   object\n",
      " 3   type        6120 non-null   object\n",
      " 4   replyto     6120 non-null   object\n",
      " 5   phishing    6120 non-null   int64 \n",
      " 6   clean       6120 non-null   object\n",
      " 7   links       6120 non-null   object\n",
      " 8   body_html   6120 non-null   int64 \n",
      " 9   body_form   6120 non-null   int64 \n",
      " 10  js          6120 non-null   int64 \n",
      " 11  body_words  6120 non-null   int64 \n",
      "dtypes: int64(5), object(7)\n",
      "memory usage: 621.6+ KB\n"
     ]
    }
   ],
   "source": [
    "df.info()"
   ]
  },
  {
   "cell_type": "markdown",
   "metadata": {},
   "source": [
    "## 2.3 Особенности в теме сообщения"
   ]
  },
  {
   "cell_type": "code",
   "execution_count": 27,
   "metadata": {},
   "outputs": [],
   "source": [
    "# Функция возвращает 1, если на сообщение ответили, иначе 0\n",
    "def subj_reply(subj):\n",
    "    reply = subj.lower().startswith(\"re:\")\n",
    "    return int(reply)\n",
    "# Функция возвращает 1, если сообщение переслано, иначе 0\n",
    "def subj_forward(subj):\n",
    "    forward = subj.lower().startswith(\"fwd:\")\n",
    "    return int(forward)\n",
    "# Функция для подсчета ключевых слов в тексте сообщения\n",
    "def subj_words(subj):\n",
    "    for word in key_words:\n",
    "        if word in subj:\n",
    "            return 1\n",
    "    return 0"
   ]
  },
  {
   "cell_type": "code",
   "execution_count": 28,
   "metadata": {},
   "outputs": [
    {
     "data": {
      "text/html": [
       "<div>\n",
       "<style scoped>\n",
       "    .dataframe tbody tr th:only-of-type {\n",
       "        vertical-align: middle;\n",
       "    }\n",
       "\n",
       "    .dataframe tbody tr th {\n",
       "        vertical-align: top;\n",
       "    }\n",
       "\n",
       "    .dataframe thead th {\n",
       "        text-align: right;\n",
       "    }\n",
       "</style>\n",
       "<table border=\"1\" class=\"dataframe\">\n",
       "  <thead>\n",
       "    <tr style=\"text-align: right;\">\n",
       "      <th></th>\n",
       "      <th>message</th>\n",
       "      <th>from</th>\n",
       "      <th>sub</th>\n",
       "      <th>type</th>\n",
       "      <th>replyto</th>\n",
       "      <th>phishing</th>\n",
       "      <th>clean</th>\n",
       "      <th>links</th>\n",
       "      <th>body_html</th>\n",
       "      <th>body_form</th>\n",
       "      <th>js</th>\n",
       "      <th>body_words</th>\n",
       "      <th>subj_reply</th>\n",
       "      <th>subj_forward</th>\n",
       "      <th>subj_words</th>\n",
       "    </tr>\n",
       "  </thead>\n",
       "  <tbody>\n",
       "    <tr>\n",
       "      <th>0</th>\n",
       "      <td>&lt;font size=\"2\" face=\"Courier New, Helvetica, s...</td>\n",
       "      <td>\"service@paypal.com\"&lt;service@paypal.com&gt;</td>\n",
       "      <td>Please restore your account access</td>\n",
       "      <td>text/html;\\n\\tcharset=\"Windows-1251\"</td>\n",
       "      <td>noone</td>\n",
       "      <td>1</td>\n",
       "      <td>font size= face= courier new helvetica sans-se...</td>\n",
       "      <td>[https://www.paypal.com/cgi-bin/webscr.php?cmd...</td>\n",
       "      <td>1</td>\n",
       "      <td>0</td>\n",
       "      <td>0</td>\n",
       "      <td>45</td>\n",
       "      <td>0</td>\n",
       "      <td>0</td>\n",
       "      <td>1</td>\n",
       "    </tr>\n",
       "    <tr>\n",
       "      <th>1</th>\n",
       "      <td>\\nBTW:  I remember messing about with such thi...</td>\n",
       "      <td>Hal DeVore &lt;haldevore@acm.org&gt;</td>\n",
       "      <td>Re: Ringing bell on other computer</td>\n",
       "      <td>text/plain; charset=us-ascii</td>\n",
       "      <td>exmh-users@example.com</td>\n",
       "      <td>0</td>\n",
       "      <td>btw remember messing thing long ago one proble...</td>\n",
       "      <td>[https://listman.redhat.com/mailman/listinfo/e...</td>\n",
       "      <td>0</td>\n",
       "      <td>0</td>\n",
       "      <td>0</td>\n",
       "      <td>0</td>\n",
       "      <td>1</td>\n",
       "      <td>0</td>\n",
       "      <td>0</td>\n",
       "    </tr>\n",
       "    <tr>\n",
       "      <th>2</th>\n",
       "      <td>&lt;HTML&gt;\\n&lt;HEAD&gt;\\n&lt;TITLE&gt;&lt;/TITLE&gt;\\n&lt;/HEAD&gt;\\n&lt;BOD...</td>\n",
       "      <td>\"PayPal\" &lt;service@paypal.com&gt;</td>\n",
       "      <td>Check the status and history of your account</td>\n",
       "      <td>text/html;\\n\\tcharset=\"Windows-1251\"</td>\n",
       "      <td>&lt;do-not-reply@paypal.com&gt;</td>\n",
       "      <td>1</td>\n",
       "      <td>html head title /title /head body p font face=...</td>\n",
       "      <td>[https://www.paypal.com/&lt;/FONT&gt;&lt;/A&gt;&lt;FONT, http...</td>\n",
       "      <td>1</td>\n",
       "      <td>0</td>\n",
       "      <td>0</td>\n",
       "      <td>29</td>\n",
       "      <td>0</td>\n",
       "      <td>0</td>\n",
       "      <td>1</td>\n",
       "    </tr>\n",
       "    <tr>\n",
       "      <th>3</th>\n",
       "      <td>[&lt;email.message.Message object at 0x7feb86ded9...</td>\n",
       "      <td>\"Paypal Inc.\" &lt;acc@paypal.com&gt;</td>\n",
       "      <td>IMPORTANT: Update your PayPal records</td>\n",
       "      <td>multipart/alternative;\\n\\tboundary=\"--21164709...</td>\n",
       "      <td>\"Paypal Inc.\" &lt;account@paypal.com&gt;</td>\n",
       "      <td>1</td>\n",
       "      <td>email.message.message object 0x7feb86ded950</td>\n",
       "      <td>[]</td>\n",
       "      <td>0</td>\n",
       "      <td>0</td>\n",
       "      <td>0</td>\n",
       "      <td>0</td>\n",
       "      <td>0</td>\n",
       "      <td>0</td>\n",
       "      <td>0</td>\n",
       "    </tr>\n",
       "    <tr>\n",
       "      <th>4</th>\n",
       "      <td>I agree w/ ya Tom.  That kind of thinking is S...</td>\n",
       "      <td>CDale &lt;cdale@techmonkeys.net&gt;</td>\n",
       "      <td>Re: Selling Wedded Bliss (was Re: Ouch...)</td>\n",
       "      <td>TEXT/PLAIN; charset=US-ASCII</td>\n",
       "      <td>noone</td>\n",
       "      <td>0</td>\n",
       "      <td>agree w/ ya tom kind thinking idiotic sure gay...</td>\n",
       "      <td>[]</td>\n",
       "      <td>0</td>\n",
       "      <td>0</td>\n",
       "      <td>0</td>\n",
       "      <td>1</td>\n",
       "      <td>1</td>\n",
       "      <td>0</td>\n",
       "      <td>0</td>\n",
       "    </tr>\n",
       "  </tbody>\n",
       "</table>\n",
       "</div>"
      ],
      "text/plain": [
       "                                             message  \\\n",
       "0  <font size=\"2\" face=\"Courier New, Helvetica, s...   \n",
       "1  \\nBTW:  I remember messing about with such thi...   \n",
       "2  <HTML>\\n<HEAD>\\n<TITLE></TITLE>\\n</HEAD>\\n<BOD...   \n",
       "3  [<email.message.Message object at 0x7feb86ded9...   \n",
       "4  I agree w/ ya Tom.  That kind of thinking is S...   \n",
       "\n",
       "                                       from  \\\n",
       "0  \"service@paypal.com\"<service@paypal.com>   \n",
       "1            Hal DeVore <haldevore@acm.org>   \n",
       "2             \"PayPal\" <service@paypal.com>   \n",
       "3            \"Paypal Inc.\" <acc@paypal.com>   \n",
       "4             CDale <cdale@techmonkeys.net>   \n",
       "\n",
       "                                            sub  \\\n",
       "0            Please restore your account access   \n",
       "1            Re: Ringing bell on other computer   \n",
       "2  Check the status and history of your account   \n",
       "3         IMPORTANT: Update your PayPal records   \n",
       "4    Re: Selling Wedded Bliss (was Re: Ouch...)   \n",
       "\n",
       "                                                type  \\\n",
       "0               text/html;\\n\\tcharset=\"Windows-1251\"   \n",
       "1                       text/plain; charset=us-ascii   \n",
       "2               text/html;\\n\\tcharset=\"Windows-1251\"   \n",
       "3  multipart/alternative;\\n\\tboundary=\"--21164709...   \n",
       "4                       TEXT/PLAIN; charset=US-ASCII   \n",
       "\n",
       "                              replyto  phishing  \\\n",
       "0                               noone         1   \n",
       "1              exmh-users@example.com         0   \n",
       "2           <do-not-reply@paypal.com>         1   \n",
       "3  \"Paypal Inc.\" <account@paypal.com>         1   \n",
       "4                               noone         0   \n",
       "\n",
       "                                               clean  \\\n",
       "0  font size= face= courier new helvetica sans-se...   \n",
       "1  btw remember messing thing long ago one proble...   \n",
       "2  html head title /title /head body p font face=...   \n",
       "3        email.message.message object 0x7feb86ded950   \n",
       "4  agree w/ ya tom kind thinking idiotic sure gay...   \n",
       "\n",
       "                                               links  body_html  body_form  \\\n",
       "0  [https://www.paypal.com/cgi-bin/webscr.php?cmd...          1          0   \n",
       "1  [https://listman.redhat.com/mailman/listinfo/e...          0          0   \n",
       "2  [https://www.paypal.com/</FONT></A><FONT, http...          1          0   \n",
       "3                                                 []          0          0   \n",
       "4                                                 []          0          0   \n",
       "\n",
       "   js  body_words  subj_reply  subj_forward  subj_words  \n",
       "0   0          45           0             0           1  \n",
       "1   0           0           1             0           0  \n",
       "2   0          29           0             0           1  \n",
       "3   0           0           0             0           0  \n",
       "4   0           1           1             0           0  "
      ]
     },
     "execution_count": 28,
     "metadata": {},
     "output_type": "execute_result"
    }
   ],
   "source": [
    "df['subj_reply'] =  df['sub'].map(subj_reply)\n",
    "df['subj_forward'] =  df['sub'].map(subj_forward)\n",
    "df['subj_words'] =  df['sub'].map(subj_words)\n",
    "df.head()"
   ]
  },
  {
   "cell_type": "markdown",
   "metadata": {},
   "source": [
    "## 2.4 Особенности, связанные с отправителем"
   ]
  },
  {
   "cell_type": "code",
   "execution_count": 29,
   "metadata": {},
   "outputs": [],
   "source": [
    "# Функция проверяет, совпадают ли домен отправителя и домен получателя ответа\n",
    "def diff_sender_replyto(send, reply):\n",
    "    send_domain = get_email_domain(send)\n",
    "    reply_domain = get_email_domain(reply)\n",
    "    return int(send_domain != reply_domain)\n",
    "# Функция проверяет, совпадают ли домен отправителя и домены ссылок\n",
    "def diff_sender_domain(send, urls):\n",
    "    send_domain = get_email_domain(send)\n",
    "    for url in urls:\n",
    "        url_domain = get_url_domain(url)\n",
    "        if url_domain != send_domain:\n",
    "            return 1\n",
    "    return 0"
   ]
  },
  {
   "cell_type": "code",
   "execution_count": 30,
   "metadata": {},
   "outputs": [],
   "source": [
    "df['diff_sender_replyto'] = df.apply(lambda x: diff_sender_replyto(x['from'], x['replyto']), axis=1)\n",
    "df['diff_sender_domain'] = df.apply(lambda x: diff_sender_domain(x['from'], x['replyto']), axis=1)"
   ]
  },
  {
   "cell_type": "code",
   "execution_count": 31,
   "metadata": {
    "scrolled": true
   },
   "outputs": [
    {
     "data": {
      "text/html": [
       "<div>\n",
       "<style scoped>\n",
       "    .dataframe tbody tr th:only-of-type {\n",
       "        vertical-align: middle;\n",
       "    }\n",
       "\n",
       "    .dataframe tbody tr th {\n",
       "        vertical-align: top;\n",
       "    }\n",
       "\n",
       "    .dataframe thead th {\n",
       "        text-align: right;\n",
       "    }\n",
       "</style>\n",
       "<table border=\"1\" class=\"dataframe\">\n",
       "  <thead>\n",
       "    <tr style=\"text-align: right;\">\n",
       "      <th></th>\n",
       "      <th>message</th>\n",
       "      <th>from</th>\n",
       "      <th>sub</th>\n",
       "      <th>type</th>\n",
       "      <th>replyto</th>\n",
       "      <th>phishing</th>\n",
       "      <th>clean</th>\n",
       "      <th>links</th>\n",
       "      <th>body_html</th>\n",
       "      <th>body_form</th>\n",
       "      <th>js</th>\n",
       "      <th>body_words</th>\n",
       "      <th>subj_reply</th>\n",
       "      <th>subj_forward</th>\n",
       "      <th>subj_words</th>\n",
       "      <th>diff_sender_replyto</th>\n",
       "      <th>diff_sender_domain</th>\n",
       "    </tr>\n",
       "  </thead>\n",
       "  <tbody>\n",
       "    <tr>\n",
       "      <th>0</th>\n",
       "      <td>&lt;font size=\"2\" face=\"Courier New, Helvetica, s...</td>\n",
       "      <td>\"service@paypal.com\"&lt;service@paypal.com&gt;</td>\n",
       "      <td>Please restore your account access</td>\n",
       "      <td>text/html;\\n\\tcharset=\"Windows-1251\"</td>\n",
       "      <td>noone</td>\n",
       "      <td>1</td>\n",
       "      <td>font size= face= courier new helvetica sans-se...</td>\n",
       "      <td>[https://www.paypal.com/cgi-bin/webscr.php?cmd...</td>\n",
       "      <td>1</td>\n",
       "      <td>0</td>\n",
       "      <td>0</td>\n",
       "      <td>45</td>\n",
       "      <td>0</td>\n",
       "      <td>0</td>\n",
       "      <td>1</td>\n",
       "      <td>1</td>\n",
       "      <td>1</td>\n",
       "    </tr>\n",
       "    <tr>\n",
       "      <th>1</th>\n",
       "      <td>\\nBTW:  I remember messing about with such thi...</td>\n",
       "      <td>Hal DeVore &lt;haldevore@acm.org&gt;</td>\n",
       "      <td>Re: Ringing bell on other computer</td>\n",
       "      <td>text/plain; charset=us-ascii</td>\n",
       "      <td>exmh-users@example.com</td>\n",
       "      <td>0</td>\n",
       "      <td>btw remember messing thing long ago one proble...</td>\n",
       "      <td>[https://listman.redhat.com/mailman/listinfo/e...</td>\n",
       "      <td>0</td>\n",
       "      <td>0</td>\n",
       "      <td>0</td>\n",
       "      <td>0</td>\n",
       "      <td>1</td>\n",
       "      <td>0</td>\n",
       "      <td>0</td>\n",
       "      <td>1</td>\n",
       "      <td>1</td>\n",
       "    </tr>\n",
       "    <tr>\n",
       "      <th>2</th>\n",
       "      <td>&lt;HTML&gt;\\n&lt;HEAD&gt;\\n&lt;TITLE&gt;&lt;/TITLE&gt;\\n&lt;/HEAD&gt;\\n&lt;BOD...</td>\n",
       "      <td>\"PayPal\" &lt;service@paypal.com&gt;</td>\n",
       "      <td>Check the status and history of your account</td>\n",
       "      <td>text/html;\\n\\tcharset=\"Windows-1251\"</td>\n",
       "      <td>&lt;do-not-reply@paypal.com&gt;</td>\n",
       "      <td>1</td>\n",
       "      <td>html head title /title /head body p font face=...</td>\n",
       "      <td>[https://www.paypal.com/&lt;/FONT&gt;&lt;/A&gt;&lt;FONT, http...</td>\n",
       "      <td>1</td>\n",
       "      <td>0</td>\n",
       "      <td>0</td>\n",
       "      <td>29</td>\n",
       "      <td>0</td>\n",
       "      <td>0</td>\n",
       "      <td>1</td>\n",
       "      <td>0</td>\n",
       "      <td>1</td>\n",
       "    </tr>\n",
       "    <tr>\n",
       "      <th>3</th>\n",
       "      <td>[&lt;email.message.Message object at 0x7feb86ded9...</td>\n",
       "      <td>\"Paypal Inc.\" &lt;acc@paypal.com&gt;</td>\n",
       "      <td>IMPORTANT: Update your PayPal records</td>\n",
       "      <td>multipart/alternative;\\n\\tboundary=\"--21164709...</td>\n",
       "      <td>\"Paypal Inc.\" &lt;account@paypal.com&gt;</td>\n",
       "      <td>1</td>\n",
       "      <td>email.message.message object 0x7feb86ded950</td>\n",
       "      <td>[]</td>\n",
       "      <td>0</td>\n",
       "      <td>0</td>\n",
       "      <td>0</td>\n",
       "      <td>0</td>\n",
       "      <td>0</td>\n",
       "      <td>0</td>\n",
       "      <td>0</td>\n",
       "      <td>0</td>\n",
       "      <td>1</td>\n",
       "    </tr>\n",
       "    <tr>\n",
       "      <th>4</th>\n",
       "      <td>I agree w/ ya Tom.  That kind of thinking is S...</td>\n",
       "      <td>CDale &lt;cdale@techmonkeys.net&gt;</td>\n",
       "      <td>Re: Selling Wedded Bliss (was Re: Ouch...)</td>\n",
       "      <td>TEXT/PLAIN; charset=US-ASCII</td>\n",
       "      <td>noone</td>\n",
       "      <td>0</td>\n",
       "      <td>agree w/ ya tom kind thinking idiotic sure gay...</td>\n",
       "      <td>[]</td>\n",
       "      <td>0</td>\n",
       "      <td>0</td>\n",
       "      <td>0</td>\n",
       "      <td>1</td>\n",
       "      <td>1</td>\n",
       "      <td>0</td>\n",
       "      <td>0</td>\n",
       "      <td>1</td>\n",
       "      <td>1</td>\n",
       "    </tr>\n",
       "  </tbody>\n",
       "</table>\n",
       "</div>"
      ],
      "text/plain": [
       "                                             message  \\\n",
       "0  <font size=\"2\" face=\"Courier New, Helvetica, s...   \n",
       "1  \\nBTW:  I remember messing about with such thi...   \n",
       "2  <HTML>\\n<HEAD>\\n<TITLE></TITLE>\\n</HEAD>\\n<BOD...   \n",
       "3  [<email.message.Message object at 0x7feb86ded9...   \n",
       "4  I agree w/ ya Tom.  That kind of thinking is S...   \n",
       "\n",
       "                                       from  \\\n",
       "0  \"service@paypal.com\"<service@paypal.com>   \n",
       "1            Hal DeVore <haldevore@acm.org>   \n",
       "2             \"PayPal\" <service@paypal.com>   \n",
       "3            \"Paypal Inc.\" <acc@paypal.com>   \n",
       "4             CDale <cdale@techmonkeys.net>   \n",
       "\n",
       "                                            sub  \\\n",
       "0            Please restore your account access   \n",
       "1            Re: Ringing bell on other computer   \n",
       "2  Check the status and history of your account   \n",
       "3         IMPORTANT: Update your PayPal records   \n",
       "4    Re: Selling Wedded Bliss (was Re: Ouch...)   \n",
       "\n",
       "                                                type  \\\n",
       "0               text/html;\\n\\tcharset=\"Windows-1251\"   \n",
       "1                       text/plain; charset=us-ascii   \n",
       "2               text/html;\\n\\tcharset=\"Windows-1251\"   \n",
       "3  multipart/alternative;\\n\\tboundary=\"--21164709...   \n",
       "4                       TEXT/PLAIN; charset=US-ASCII   \n",
       "\n",
       "                              replyto  phishing  \\\n",
       "0                               noone         1   \n",
       "1              exmh-users@example.com         0   \n",
       "2           <do-not-reply@paypal.com>         1   \n",
       "3  \"Paypal Inc.\" <account@paypal.com>         1   \n",
       "4                               noone         0   \n",
       "\n",
       "                                               clean  \\\n",
       "0  font size= face= courier new helvetica sans-se...   \n",
       "1  btw remember messing thing long ago one proble...   \n",
       "2  html head title /title /head body p font face=...   \n",
       "3        email.message.message object 0x7feb86ded950   \n",
       "4  agree w/ ya tom kind thinking idiotic sure gay...   \n",
       "\n",
       "                                               links  body_html  body_form  \\\n",
       "0  [https://www.paypal.com/cgi-bin/webscr.php?cmd...          1          0   \n",
       "1  [https://listman.redhat.com/mailman/listinfo/e...          0          0   \n",
       "2  [https://www.paypal.com/</FONT></A><FONT, http...          1          0   \n",
       "3                                                 []          0          0   \n",
       "4                                                 []          0          0   \n",
       "\n",
       "   js  body_words  subj_reply  subj_forward  subj_words  diff_sender_replyto  \\\n",
       "0   0          45           0             0           1                    1   \n",
       "1   0           0           1             0           0                    1   \n",
       "2   0          29           0             0           1                    0   \n",
       "3   0           0           0             0           0                    0   \n",
       "4   0           1           1             0           0                    1   \n",
       "\n",
       "   diff_sender_domain  \n",
       "0                   1  \n",
       "1                   1  \n",
       "2                   1  \n",
       "3                   1  \n",
       "4                   1  "
      ]
     },
     "execution_count": 31,
     "metadata": {},
     "output_type": "execute_result"
    }
   ],
   "source": [
    "df.head()"
   ]
  },
  {
   "cell_type": "markdown",
   "metadata": {},
   "source": [
    "## 2.5 Особенности, связанные с ссылками"
   ]
  },
  {
   "cell_type": "code",
   "execution_count": 32,
   "metadata": {},
   "outputs": [],
   "source": [
    "# Проверка наличия IP в ссылке\n",
    "def url_IP(links):\n",
    "    for link in links:\n",
    "        link = get_url_domain(str(link))\n",
    "        if re.search(r'\\d{1,3}.\\d{1,3}.\\d{1,3}.\\d{1,3}', str(link)):\n",
    "            return 1\n",
    "    return 0\n",
    "# Проверка наличия @ в ссылке\n",
    "def url_symb(links):\n",
    "    for link in links:\n",
    "        if '@' in link:\n",
    "            return 1\n",
    "    return 0\n",
    "# Количество ссылок в сообщении\n",
    "def url_num(links):\n",
    "    return len(links)\n",
    "# Количество уникальных доменов в сообщении\n",
    "def url_domain(links, sender, reply):\n",
    "    domains = [get_url_domain(link) for link in links if get_url_domain(link)]\n",
    "    domains.append(get_email_domain(sender))\n",
    "    domains.append(get_email_domain(reply))\n",
    "    return len(set(domains))\n",
    "# Количество доменов в ссылке\n",
    "def url_num_domains(links):\n",
    "    for link in links:\n",
    "        link = get_url_domain(link)\n",
    "        if link:\n",
    "            link = link.split('.')\n",
    "            if len(link) >= 4:\n",
    "                return 1\n",
    "    return 0\n",
    "# Проверка порта\n",
    "def url_port(links):\n",
    "    for link in links:\n",
    "        if link:\n",
    "            link = get_url_domain(link)\n",
    "            if ':' in link:\n",
    "                port = link[link.find(':') + 1:]\n",
    "                if port != '80' and port != '443':\n",
    "                    return 1\n",
    "    return 0"
   ]
  },
  {
   "cell_type": "code",
   "execution_count": 33,
   "metadata": {},
   "outputs": [],
   "source": [
    "df['url_IP'] =  df['links'].map(url_IP)\n",
    "df['url_symb'] =  df['links'].map(url_symb)\n",
    "df['url_num'] =  df['links'].map(url_num)\n",
    "df['url_num_domains'] =  df['links'].map(url_num_domains)\n",
    "df['url_port'] =  df['links'].map(url_port)\n",
    "df['url_domain'] = df.apply(lambda x: url_domain(x['links'], x['from'], x['replyto']), axis=1)"
   ]
  },
  {
   "cell_type": "code",
   "execution_count": 34,
   "metadata": {},
   "outputs": [
    {
     "data": {
      "text/html": [
       "<div>\n",
       "<style scoped>\n",
       "    .dataframe tbody tr th:only-of-type {\n",
       "        vertical-align: middle;\n",
       "    }\n",
       "\n",
       "    .dataframe tbody tr th {\n",
       "        vertical-align: top;\n",
       "    }\n",
       "\n",
       "    .dataframe thead th {\n",
       "        text-align: right;\n",
       "    }\n",
       "</style>\n",
       "<table border=\"1\" class=\"dataframe\">\n",
       "  <thead>\n",
       "    <tr style=\"text-align: right;\">\n",
       "      <th></th>\n",
       "      <th>message</th>\n",
       "      <th>from</th>\n",
       "      <th>sub</th>\n",
       "      <th>type</th>\n",
       "      <th>replyto</th>\n",
       "      <th>phishing</th>\n",
       "      <th>clean</th>\n",
       "      <th>links</th>\n",
       "      <th>body_html</th>\n",
       "      <th>body_form</th>\n",
       "      <th>...</th>\n",
       "      <th>subj_forward</th>\n",
       "      <th>subj_words</th>\n",
       "      <th>diff_sender_replyto</th>\n",
       "      <th>diff_sender_domain</th>\n",
       "      <th>url_IP</th>\n",
       "      <th>url_symb</th>\n",
       "      <th>url_num</th>\n",
       "      <th>url_num_domains</th>\n",
       "      <th>url_port</th>\n",
       "      <th>url_domain</th>\n",
       "    </tr>\n",
       "  </thead>\n",
       "  <tbody>\n",
       "    <tr>\n",
       "      <th>0</th>\n",
       "      <td>&lt;font size=\"2\" face=\"Courier New, Helvetica, s...</td>\n",
       "      <td>\"service@paypal.com\"&lt;service@paypal.com&gt;</td>\n",
       "      <td>Please restore your account access</td>\n",
       "      <td>text/html;\\n\\tcharset=\"Windows-1251\"</td>\n",
       "      <td>noone</td>\n",
       "      <td>1</td>\n",
       "      <td>font size= face= courier new helvetica sans-se...</td>\n",
       "      <td>[https://www.paypal.com/cgi-bin/webscr.php?cmd...</td>\n",
       "      <td>1</td>\n",
       "      <td>0</td>\n",
       "      <td>...</td>\n",
       "      <td>0</td>\n",
       "      <td>1</td>\n",
       "      <td>1</td>\n",
       "      <td>1</td>\n",
       "      <td>1</td>\n",
       "      <td>0</td>\n",
       "      <td>2</td>\n",
       "      <td>1</td>\n",
       "      <td>0</td>\n",
       "      <td>4</td>\n",
       "    </tr>\n",
       "    <tr>\n",
       "      <th>1</th>\n",
       "      <td>\\nBTW:  I remember messing about with such thi...</td>\n",
       "      <td>Hal DeVore &lt;haldevore@acm.org&gt;</td>\n",
       "      <td>Re: Ringing bell on other computer</td>\n",
       "      <td>text/plain; charset=us-ascii</td>\n",
       "      <td>exmh-users@example.com</td>\n",
       "      <td>0</td>\n",
       "      <td>btw remember messing thing long ago one proble...</td>\n",
       "      <td>[https://listman.redhat.com/mailman/listinfo/e...</td>\n",
       "      <td>0</td>\n",
       "      <td>0</td>\n",
       "      <td>...</td>\n",
       "      <td>0</td>\n",
       "      <td>0</td>\n",
       "      <td>1</td>\n",
       "      <td>1</td>\n",
       "      <td>0</td>\n",
       "      <td>0</td>\n",
       "      <td>1</td>\n",
       "      <td>0</td>\n",
       "      <td>0</td>\n",
       "      <td>3</td>\n",
       "    </tr>\n",
       "    <tr>\n",
       "      <th>2</th>\n",
       "      <td>&lt;HTML&gt;\\n&lt;HEAD&gt;\\n&lt;TITLE&gt;&lt;/TITLE&gt;\\n&lt;/HEAD&gt;\\n&lt;BOD...</td>\n",
       "      <td>\"PayPal\" &lt;service@paypal.com&gt;</td>\n",
       "      <td>Check the status and history of your account</td>\n",
       "      <td>text/html;\\n\\tcharset=\"Windows-1251\"</td>\n",
       "      <td>&lt;do-not-reply@paypal.com&gt;</td>\n",
       "      <td>1</td>\n",
       "      <td>html head title /title /head body p font face=...</td>\n",
       "      <td>[https://www.paypal.com/&lt;/FONT&gt;&lt;/A&gt;&lt;FONT, http...</td>\n",
       "      <td>1</td>\n",
       "      <td>0</td>\n",
       "      <td>...</td>\n",
       "      <td>0</td>\n",
       "      <td>1</td>\n",
       "      <td>0</td>\n",
       "      <td>1</td>\n",
       "      <td>0</td>\n",
       "      <td>0</td>\n",
       "      <td>4</td>\n",
       "      <td>0</td>\n",
       "      <td>0</td>\n",
       "      <td>3</td>\n",
       "    </tr>\n",
       "    <tr>\n",
       "      <th>3</th>\n",
       "      <td>[&lt;email.message.Message object at 0x7feb86ded9...</td>\n",
       "      <td>\"Paypal Inc.\" &lt;acc@paypal.com&gt;</td>\n",
       "      <td>IMPORTANT: Update your PayPal records</td>\n",
       "      <td>multipart/alternative;\\n\\tboundary=\"--21164709...</td>\n",
       "      <td>\"Paypal Inc.\" &lt;account@paypal.com&gt;</td>\n",
       "      <td>1</td>\n",
       "      <td>email.message.message object 0x7feb86ded950</td>\n",
       "      <td>[]</td>\n",
       "      <td>0</td>\n",
       "      <td>0</td>\n",
       "      <td>...</td>\n",
       "      <td>0</td>\n",
       "      <td>0</td>\n",
       "      <td>0</td>\n",
       "      <td>1</td>\n",
       "      <td>0</td>\n",
       "      <td>0</td>\n",
       "      <td>0</td>\n",
       "      <td>0</td>\n",
       "      <td>0</td>\n",
       "      <td>1</td>\n",
       "    </tr>\n",
       "    <tr>\n",
       "      <th>4</th>\n",
       "      <td>I agree w/ ya Tom.  That kind of thinking is S...</td>\n",
       "      <td>CDale &lt;cdale@techmonkeys.net&gt;</td>\n",
       "      <td>Re: Selling Wedded Bliss (was Re: Ouch...)</td>\n",
       "      <td>TEXT/PLAIN; charset=US-ASCII</td>\n",
       "      <td>noone</td>\n",
       "      <td>0</td>\n",
       "      <td>agree w/ ya tom kind thinking idiotic sure gay...</td>\n",
       "      <td>[]</td>\n",
       "      <td>0</td>\n",
       "      <td>0</td>\n",
       "      <td>...</td>\n",
       "      <td>0</td>\n",
       "      <td>0</td>\n",
       "      <td>1</td>\n",
       "      <td>1</td>\n",
       "      <td>0</td>\n",
       "      <td>0</td>\n",
       "      <td>0</td>\n",
       "      <td>0</td>\n",
       "      <td>0</td>\n",
       "      <td>2</td>\n",
       "    </tr>\n",
       "  </tbody>\n",
       "</table>\n",
       "<p>5 rows × 23 columns</p>\n",
       "</div>"
      ],
      "text/plain": [
       "                                             message  \\\n",
       "0  <font size=\"2\" face=\"Courier New, Helvetica, s...   \n",
       "1  \\nBTW:  I remember messing about with such thi...   \n",
       "2  <HTML>\\n<HEAD>\\n<TITLE></TITLE>\\n</HEAD>\\n<BOD...   \n",
       "3  [<email.message.Message object at 0x7feb86ded9...   \n",
       "4  I agree w/ ya Tom.  That kind of thinking is S...   \n",
       "\n",
       "                                       from  \\\n",
       "0  \"service@paypal.com\"<service@paypal.com>   \n",
       "1            Hal DeVore <haldevore@acm.org>   \n",
       "2             \"PayPal\" <service@paypal.com>   \n",
       "3            \"Paypal Inc.\" <acc@paypal.com>   \n",
       "4             CDale <cdale@techmonkeys.net>   \n",
       "\n",
       "                                            sub  \\\n",
       "0            Please restore your account access   \n",
       "1            Re: Ringing bell on other computer   \n",
       "2  Check the status and history of your account   \n",
       "3         IMPORTANT: Update your PayPal records   \n",
       "4    Re: Selling Wedded Bliss (was Re: Ouch...)   \n",
       "\n",
       "                                                type  \\\n",
       "0               text/html;\\n\\tcharset=\"Windows-1251\"   \n",
       "1                       text/plain; charset=us-ascii   \n",
       "2               text/html;\\n\\tcharset=\"Windows-1251\"   \n",
       "3  multipart/alternative;\\n\\tboundary=\"--21164709...   \n",
       "4                       TEXT/PLAIN; charset=US-ASCII   \n",
       "\n",
       "                              replyto  phishing  \\\n",
       "0                               noone         1   \n",
       "1              exmh-users@example.com         0   \n",
       "2           <do-not-reply@paypal.com>         1   \n",
       "3  \"Paypal Inc.\" <account@paypal.com>         1   \n",
       "4                               noone         0   \n",
       "\n",
       "                                               clean  \\\n",
       "0  font size= face= courier new helvetica sans-se...   \n",
       "1  btw remember messing thing long ago one proble...   \n",
       "2  html head title /title /head body p font face=...   \n",
       "3        email.message.message object 0x7feb86ded950   \n",
       "4  agree w/ ya tom kind thinking idiotic sure gay...   \n",
       "\n",
       "                                               links  body_html  body_form  \\\n",
       "0  [https://www.paypal.com/cgi-bin/webscr.php?cmd...          1          0   \n",
       "1  [https://listman.redhat.com/mailman/listinfo/e...          0          0   \n",
       "2  [https://www.paypal.com/</FONT></A><FONT, http...          1          0   \n",
       "3                                                 []          0          0   \n",
       "4                                                 []          0          0   \n",
       "\n",
       "   ...  subj_forward  subj_words  diff_sender_replyto  diff_sender_domain  \\\n",
       "0  ...             0           1                    1                   1   \n",
       "1  ...             0           0                    1                   1   \n",
       "2  ...             0           1                    0                   1   \n",
       "3  ...             0           0                    0                   1   \n",
       "4  ...             0           0                    1                   1   \n",
       "\n",
       "   url_IP  url_symb  url_num  url_num_domains  url_port  url_domain  \n",
       "0       1         0        2                1         0           4  \n",
       "1       0         0        1                0         0           3  \n",
       "2       0         0        4                0         0           3  \n",
       "3       0         0        0                0         0           1  \n",
       "4       0         0        0                0         0           2  \n",
       "\n",
       "[5 rows x 23 columns]"
      ]
     },
     "execution_count": 34,
     "metadata": {},
     "output_type": "execute_result"
    }
   ],
   "source": [
    "df.head()"
   ]
  },
  {
   "cell_type": "markdown",
   "metadata": {},
   "source": [
    "# 3 Выборка"
   ]
  },
  {
   "cell_type": "code",
   "execution_count": 35,
   "metadata": {},
   "outputs": [],
   "source": [
    "train, test = train_test_split(df[['body_html', 'body_form', 'body_words', 'subj_reply', 'subj_forward', 'subj_words', 'diff_sender_replyto', 'diff_sender_domain', 'url_IP', 'url_symb', 'url_num', 'url_num_domains', 'url_port', 'url_domain', 'js', 'phishing']], test_size=0.2, shuffle=True)"
   ]
  },
  {
   "cell_type": "code",
   "execution_count": 36,
   "metadata": {},
   "outputs": [],
   "source": [
    "train = train.reset_index(drop=True)\n",
    "test = test.reset_index(drop=True)"
   ]
  },
  {
   "cell_type": "code",
   "execution_count": 37,
   "metadata": {},
   "outputs": [],
   "source": [
    "train_X = train.drop('phishing', axis=1)\n",
    "train_y = train['phishing']"
   ]
  },
  {
   "cell_type": "code",
   "execution_count": 38,
   "metadata": {},
   "outputs": [],
   "source": [
    "test_X = test.drop('phishing', axis=1)\n",
    "test_y = test['phishing']"
   ]
  },
  {
   "cell_type": "code",
   "execution_count": 39,
   "metadata": {},
   "outputs": [],
   "source": [
    "scaler = StandardScaler()\n",
    "train_X = scaler.fit_transform(train_X)\n",
    "test_X = scaler.transform(test_X)"
   ]
  },
  {
   "cell_type": "code",
   "execution_count": 40,
   "metadata": {},
   "outputs": [
    {
     "data": {
      "text/html": [
       "<div>\n",
       "<style scoped>\n",
       "    .dataframe tbody tr th:only-of-type {\n",
       "        vertical-align: middle;\n",
       "    }\n",
       "\n",
       "    .dataframe tbody tr th {\n",
       "        vertical-align: top;\n",
       "    }\n",
       "\n",
       "    .dataframe thead th {\n",
       "        text-align: right;\n",
       "    }\n",
       "</style>\n",
       "<table border=\"1\" class=\"dataframe\">\n",
       "  <thead>\n",
       "    <tr style=\"text-align: right;\">\n",
       "      <th></th>\n",
       "      <th>body_html</th>\n",
       "      <th>body_form</th>\n",
       "      <th>body_words</th>\n",
       "      <th>subj_reply</th>\n",
       "      <th>subj_forward</th>\n",
       "      <th>subj_words</th>\n",
       "      <th>diff_sender_replyto</th>\n",
       "      <th>diff_sender_domain</th>\n",
       "      <th>url_IP</th>\n",
       "      <th>url_symb</th>\n",
       "      <th>url_num</th>\n",
       "      <th>url_num_domains</th>\n",
       "      <th>url_port</th>\n",
       "      <th>url_domain</th>\n",
       "      <th>js</th>\n",
       "      <th>phishing</th>\n",
       "    </tr>\n",
       "  </thead>\n",
       "  <tbody>\n",
       "    <tr>\n",
       "      <th>0</th>\n",
       "      <td>0</td>\n",
       "      <td>0</td>\n",
       "      <td>0</td>\n",
       "      <td>1</td>\n",
       "      <td>0</td>\n",
       "      <td>0</td>\n",
       "      <td>1</td>\n",
       "      <td>1</td>\n",
       "      <td>0</td>\n",
       "      <td>0</td>\n",
       "      <td>0</td>\n",
       "      <td>0</td>\n",
       "      <td>0</td>\n",
       "      <td>2</td>\n",
       "      <td>0</td>\n",
       "      <td>0</td>\n",
       "    </tr>\n",
       "    <tr>\n",
       "      <th>1</th>\n",
       "      <td>0</td>\n",
       "      <td>0</td>\n",
       "      <td>0</td>\n",
       "      <td>0</td>\n",
       "      <td>0</td>\n",
       "      <td>0</td>\n",
       "      <td>0</td>\n",
       "      <td>1</td>\n",
       "      <td>0</td>\n",
       "      <td>0</td>\n",
       "      <td>0</td>\n",
       "      <td>0</td>\n",
       "      <td>0</td>\n",
       "      <td>1</td>\n",
       "      <td>0</td>\n",
       "      <td>0</td>\n",
       "    </tr>\n",
       "    <tr>\n",
       "      <th>2</th>\n",
       "      <td>1</td>\n",
       "      <td>0</td>\n",
       "      <td>36</td>\n",
       "      <td>0</td>\n",
       "      <td>0</td>\n",
       "      <td>0</td>\n",
       "      <td>1</td>\n",
       "      <td>1</td>\n",
       "      <td>0</td>\n",
       "      <td>0</td>\n",
       "      <td>4</td>\n",
       "      <td>1</td>\n",
       "      <td>0</td>\n",
       "      <td>4</td>\n",
       "      <td>0</td>\n",
       "      <td>1</td>\n",
       "    </tr>\n",
       "    <tr>\n",
       "      <th>3</th>\n",
       "      <td>0</td>\n",
       "      <td>0</td>\n",
       "      <td>0</td>\n",
       "      <td>0</td>\n",
       "      <td>0</td>\n",
       "      <td>0</td>\n",
       "      <td>1</td>\n",
       "      <td>1</td>\n",
       "      <td>0</td>\n",
       "      <td>0</td>\n",
       "      <td>0</td>\n",
       "      <td>0</td>\n",
       "      <td>0</td>\n",
       "      <td>2</td>\n",
       "      <td>0</td>\n",
       "      <td>1</td>\n",
       "    </tr>\n",
       "    <tr>\n",
       "      <th>4</th>\n",
       "      <td>0</td>\n",
       "      <td>0</td>\n",
       "      <td>0</td>\n",
       "      <td>0</td>\n",
       "      <td>0</td>\n",
       "      <td>0</td>\n",
       "      <td>0</td>\n",
       "      <td>1</td>\n",
       "      <td>0</td>\n",
       "      <td>0</td>\n",
       "      <td>0</td>\n",
       "      <td>0</td>\n",
       "      <td>0</td>\n",
       "      <td>1</td>\n",
       "      <td>0</td>\n",
       "      <td>1</td>\n",
       "    </tr>\n",
       "    <tr>\n",
       "      <th>5</th>\n",
       "      <td>1</td>\n",
       "      <td>0</td>\n",
       "      <td>6</td>\n",
       "      <td>0</td>\n",
       "      <td>0</td>\n",
       "      <td>1</td>\n",
       "      <td>1</td>\n",
       "      <td>1</td>\n",
       "      <td>0</td>\n",
       "      <td>0</td>\n",
       "      <td>4</td>\n",
       "      <td>0</td>\n",
       "      <td>0</td>\n",
       "      <td>5</td>\n",
       "      <td>0</td>\n",
       "      <td>1</td>\n",
       "    </tr>\n",
       "    <tr>\n",
       "      <th>6</th>\n",
       "      <td>0</td>\n",
       "      <td>0</td>\n",
       "      <td>0</td>\n",
       "      <td>0</td>\n",
       "      <td>0</td>\n",
       "      <td>0</td>\n",
       "      <td>1</td>\n",
       "      <td>1</td>\n",
       "      <td>0</td>\n",
       "      <td>0</td>\n",
       "      <td>0</td>\n",
       "      <td>0</td>\n",
       "      <td>0</td>\n",
       "      <td>2</td>\n",
       "      <td>0</td>\n",
       "      <td>1</td>\n",
       "    </tr>\n",
       "    <tr>\n",
       "      <th>7</th>\n",
       "      <td>0</td>\n",
       "      <td>0</td>\n",
       "      <td>1</td>\n",
       "      <td>1</td>\n",
       "      <td>0</td>\n",
       "      <td>0</td>\n",
       "      <td>1</td>\n",
       "      <td>1</td>\n",
       "      <td>0</td>\n",
       "      <td>0</td>\n",
       "      <td>1</td>\n",
       "      <td>0</td>\n",
       "      <td>0</td>\n",
       "      <td>3</td>\n",
       "      <td>0</td>\n",
       "      <td>0</td>\n",
       "    </tr>\n",
       "    <tr>\n",
       "      <th>8</th>\n",
       "      <td>1</td>\n",
       "      <td>0</td>\n",
       "      <td>23</td>\n",
       "      <td>0</td>\n",
       "      <td>0</td>\n",
       "      <td>0</td>\n",
       "      <td>1</td>\n",
       "      <td>1</td>\n",
       "      <td>0</td>\n",
       "      <td>1</td>\n",
       "      <td>52</td>\n",
       "      <td>1</td>\n",
       "      <td>0</td>\n",
       "      <td>10</td>\n",
       "      <td>1</td>\n",
       "      <td>1</td>\n",
       "    </tr>\n",
       "    <tr>\n",
       "      <th>9</th>\n",
       "      <td>0</td>\n",
       "      <td>0</td>\n",
       "      <td>0</td>\n",
       "      <td>0</td>\n",
       "      <td>0</td>\n",
       "      <td>0</td>\n",
       "      <td>0</td>\n",
       "      <td>1</td>\n",
       "      <td>0</td>\n",
       "      <td>0</td>\n",
       "      <td>0</td>\n",
       "      <td>0</td>\n",
       "      <td>0</td>\n",
       "      <td>1</td>\n",
       "      <td>0</td>\n",
       "      <td>1</td>\n",
       "    </tr>\n",
       "  </tbody>\n",
       "</table>\n",
       "</div>"
      ],
      "text/plain": [
       "   body_html  body_form  body_words  subj_reply  subj_forward  subj_words  \\\n",
       "0          0          0           0           1             0           0   \n",
       "1          0          0           0           0             0           0   \n",
       "2          1          0          36           0             0           0   \n",
       "3          0          0           0           0             0           0   \n",
       "4          0          0           0           0             0           0   \n",
       "5          1          0           6           0             0           1   \n",
       "6          0          0           0           0             0           0   \n",
       "7          0          0           1           1             0           0   \n",
       "8          1          0          23           0             0           0   \n",
       "9          0          0           0           0             0           0   \n",
       "\n",
       "   diff_sender_replyto  diff_sender_domain  url_IP  url_symb  url_num  \\\n",
       "0                    1                   1       0         0        0   \n",
       "1                    0                   1       0         0        0   \n",
       "2                    1                   1       0         0        4   \n",
       "3                    1                   1       0         0        0   \n",
       "4                    0                   1       0         0        0   \n",
       "5                    1                   1       0         0        4   \n",
       "6                    1                   1       0         0        0   \n",
       "7                    1                   1       0         0        1   \n",
       "8                    1                   1       0         1       52   \n",
       "9                    0                   1       0         0        0   \n",
       "\n",
       "   url_num_domains  url_port  url_domain  js  phishing  \n",
       "0                0         0           2   0         0  \n",
       "1                0         0           1   0         0  \n",
       "2                1         0           4   0         1  \n",
       "3                0         0           2   0         1  \n",
       "4                0         0           1   0         1  \n",
       "5                0         0           5   0         1  \n",
       "6                0         0           2   0         1  \n",
       "7                0         0           3   0         0  \n",
       "8                1         0          10   1         1  \n",
       "9                0         0           1   0         1  "
      ]
     },
     "execution_count": 40,
     "metadata": {},
     "output_type": "execute_result"
    }
   ],
   "source": [
    "train.head(10)"
   ]
  },
  {
   "cell_type": "markdown",
   "metadata": {},
   "source": [
    "# 4 Обучение"
   ]
  },
  {
   "cell_type": "code",
   "execution_count": 41,
   "metadata": {},
   "outputs": [],
   "source": [
    "def metrics(test_y, predict_y, i):\n",
    "    accuracy = accuracy_score(test_y, predict_y)\n",
    "    precision = precision_score(test_y, predict_y)\n",
    "    recall = recall_score(test_y, predict_y)\n",
    "    f1 = f1_score(test_y, predict_y)\n",
    "    scores.loc[i] = [accuracy, precision, recall, f1]\n",
    "    \n",
    "    print(f'accuracy = {accuracy:.3f}')\n",
    "    print(f'precision = {precision:.3f}')\n",
    "    print(f'recall = {recall:.3f}')\n",
    "    print(f'f1_score = {f1:.3f}')\n",
    "    print()"
   ]
  },
  {
   "cell_type": "markdown",
   "metadata": {},
   "source": [
    "## 4.1 Логистическая регрессия"
   ]
  },
  {
   "cell_type": "code",
   "execution_count": 42,
   "metadata": {},
   "outputs": [],
   "source": [
    "from sklearn.linear_model import LogisticRegression"
   ]
  },
  {
   "cell_type": "code",
   "execution_count": 43,
   "metadata": {},
   "outputs": [],
   "source": [
    "scores = pd.DataFrame(columns=['accuracy', 'precision', 'recall', 'f1_score'])"
   ]
  },
  {
   "cell_type": "code",
   "execution_count": 44,
   "metadata": {},
   "outputs": [
    {
     "data": {
      "text/plain": [
       "LogisticRegression(random_state=42)"
      ]
     },
     "execution_count": 44,
     "metadata": {},
     "output_type": "execute_result"
    }
   ],
   "source": [
    "model = LogisticRegression(random_state=42)\n",
    "model.fit(train_X, train_y)"
   ]
  },
  {
   "cell_type": "code",
   "execution_count": 45,
   "metadata": {},
   "outputs": [],
   "source": [
    "predict_y = model.predict(test_X)"
   ]
  },
  {
   "cell_type": "code",
   "execution_count": 46,
   "metadata": {},
   "outputs": [
    {
     "name": "stdout",
     "output_type": "stream",
     "text": [
      "accuracy = 0.959\n",
      "precision = 0.958\n",
      "recall = 0.980\n",
      "f1_score = 0.969\n",
      "\n"
     ]
    }
   ],
   "source": [
    "metrics(test_y, predict_y, 'LogReg')"
   ]
  },
  {
   "cell_type": "code",
   "execution_count": 47,
   "metadata": {},
   "outputs": [
    {
     "data": {
      "image/png": "[encoded data removed]",
      "text/plain": [
       "<Figure size 1800x288 with 1 Axes>"
      ]
     },
     "metadata": {
      "needs_background": "light"
     },
     "output_type": "display_data"
    }
   ],
   "source": [
    "importance = model.coef_[0]\n",
    "fig, ax = plt.subplots()\n",
    "ax.bar([x for x in range(len(importance))], importance, tick_label=['body_html', 'body_form', 'body_words', 'subj_reply', 'subj_forward', 'subj_words', 'diff_sender_replyto', 'diff_sender_domain', 'url_IP', 'url_symb', 'url_num', 'url_num_domains', 'url_port', 'url_domain', 'js'])\n",
    "fig.set_figwidth(25)\n",
    "plt.grid()\n",
    "plt.show()"
   ]
  },
  {
   "cell_type": "markdown",
   "metadata": {},
   "source": [
    "## 4.2 Метод опорных векторов"
   ]
  },
  {
   "cell_type": "code",
   "execution_count": 48,
   "metadata": {},
   "outputs": [],
   "source": [
    "from sklearn.svm import SVC"
   ]
  },
  {
   "cell_type": "code",
   "execution_count": 49,
   "metadata": {},
   "outputs": [
    {
     "name": "stdout",
     "output_type": "stream",
     "text": [
      "CPU times: user 77.5 ms, sys: 4.31 ms, total: 81.8 ms\n",
      "Wall time: 81.1 ms\n"
     ]
    },
    {
     "data": {
      "text/plain": [
       "SVC(random_state=42)"
      ]
     },
     "execution_count": 49,
     "metadata": {},
     "output_type": "execute_result"
    }
   ],
   "source": [
    "%%time\n",
    "model = SVC(random_state=42)\n",
    "model.fit(train_X, train_y)"
   ]
  },
  {
   "cell_type": "code",
   "execution_count": 50,
   "metadata": {},
   "outputs": [],
   "source": [
    "predict_y = model.predict(test_X)"
   ]
  },
  {
   "cell_type": "code",
   "execution_count": 51,
   "metadata": {
    "scrolled": true
   },
   "outputs": [
    {
     "name": "stdout",
     "output_type": "stream",
     "text": [
      "accuracy = 0.974\n",
      "precision = 0.979\n",
      "recall = 0.981\n",
      "f1_score = 0.980\n",
      "\n"
     ]
    }
   ],
   "source": [
    "metrics(test_y, predict_y, 'SVC')"
   ]
  },
  {
   "cell_type": "markdown",
   "metadata": {},
   "source": [
    "## 4.3 Метод k-ближайших соседей"
   ]
  },
  {
   "cell_type": "code",
   "execution_count": 52,
   "metadata": {},
   "outputs": [],
   "source": [
    "from sklearn.neighbors import KNeighborsClassifier"
   ]
  },
  {
   "cell_type": "code",
   "execution_count": 53,
   "metadata": {},
   "outputs": [
    {
     "name": "stdout",
     "output_type": "stream",
     "text": [
      "CPU times: user 24.6 ms, sys: 1.24 ms, total: 25.8 ms\n",
      "Wall time: 25.1 ms\n"
     ]
    },
    {
     "data": {
      "text/plain": [
       "KNeighborsClassifier()"
      ]
     },
     "execution_count": 53,
     "metadata": {},
     "output_type": "execute_result"
    }
   ],
   "source": [
    "%%time\n",
    "model = KNeighborsClassifier()\n",
    "model.fit(train_X, train_y)"
   ]
  },
  {
   "cell_type": "code",
   "execution_count": 54,
   "metadata": {},
   "outputs": [],
   "source": [
    "predict_y = model.predict(test_X)"
   ]
  },
  {
   "cell_type": "code",
   "execution_count": 55,
   "metadata": {},
   "outputs": [
    {
     "name": "stdout",
     "output_type": "stream",
     "text": [
      "accuracy = 0.976\n",
      "precision = 0.981\n",
      "recall = 0.982\n",
      "f1_score = 0.982\n",
      "\n"
     ]
    }
   ],
   "source": [
    "metrics(test_y, predict_y, 'KNC')"
   ]
  },
  {
   "cell_type": "markdown",
   "metadata": {},
   "source": [
    "## 4.4 Наивный Баевский классификатор"
   ]
  },
  {
   "cell_type": "code",
   "execution_count": 56,
   "metadata": {},
   "outputs": [],
   "source": [
    "from sklearn.naive_bayes import GaussianNB"
   ]
  },
  {
   "cell_type": "code",
   "execution_count": 57,
   "metadata": {},
   "outputs": [
    {
     "name": "stdout",
     "output_type": "stream",
     "text": [
      "CPU times: user 2.57 ms, sys: 1.53 ms, total: 4.11 ms\n",
      "Wall time: 2.67 ms\n"
     ]
    },
    {
     "data": {
      "text/plain": [
       "GaussianNB()"
      ]
     },
     "execution_count": 57,
     "metadata": {},
     "output_type": "execute_result"
    }
   ],
   "source": [
    "%%time\n",
    "model = GaussianNB()\n",
    "model.fit(train_X, train_y)"
   ]
  },
  {
   "cell_type": "code",
   "execution_count": 58,
   "metadata": {},
   "outputs": [],
   "source": [
    "predict_y = model.predict(test_X)"
   ]
  },
  {
   "cell_type": "code",
   "execution_count": 59,
   "metadata": {},
   "outputs": [
    {
     "name": "stdout",
     "output_type": "stream",
     "text": [
      "accuracy = 0.660\n",
      "precision = 0.987\n",
      "recall = 0.482\n",
      "f1_score = 0.647\n",
      "\n"
     ]
    }
   ],
   "source": [
    "metrics(test_y, predict_y, 'GNB')"
   ]
  },
  {
   "cell_type": "markdown",
   "metadata": {},
   "source": [
    "## 4.5 Решающие деревья"
   ]
  },
  {
   "cell_type": "code",
   "execution_count": 60,
   "metadata": {},
   "outputs": [],
   "source": [
    "from sklearn.tree import DecisionTreeClassifier"
   ]
  },
  {
   "cell_type": "code",
   "execution_count": 61,
   "metadata": {},
   "outputs": [
    {
     "name": "stdout",
     "output_type": "stream",
     "text": [
      "CPU times: user 3.62 ms, sys: 1.15 ms, total: 4.77 ms\n",
      "Wall time: 3.56 ms\n"
     ]
    },
    {
     "data": {
      "text/plain": [
       "DecisionTreeClassifier()"
      ]
     },
     "execution_count": 61,
     "metadata": {},
     "output_type": "execute_result"
    }
   ],
   "source": [
    "%%time\n",
    "model = DecisionTreeClassifier()\n",
    "model.fit(train_X, train_y)"
   ]
  },
  {
   "cell_type": "code",
   "execution_count": 62,
   "metadata": {},
   "outputs": [],
   "source": [
    "predict_y = model.predict(test_X)"
   ]
  },
  {
   "cell_type": "code",
   "execution_count": 63,
   "metadata": {},
   "outputs": [
    {
     "name": "stdout",
     "output_type": "stream",
     "text": [
      "accuracy = 0.980\n",
      "precision = 0.982\n",
      "recall = 0.986\n",
      "f1_score = 0.984\n",
      "\n"
     ]
    }
   ],
   "source": [
    "metrics(test_y, predict_y, 'DTC')"
   ]
  },
  {
   "cell_type": "markdown",
   "metadata": {},
   "source": [
    "## 4.6 Градиентный бустинг"
   ]
  },
  {
   "cell_type": "code",
   "execution_count": 64,
   "metadata": {},
   "outputs": [],
   "source": [
    "from sklearn.ensemble import GradientBoostingClassifier"
   ]
  },
  {
   "cell_type": "code",
   "execution_count": 65,
   "metadata": {},
   "outputs": [
    {
     "name": "stdout",
     "output_type": "stream",
     "text": [
      "CPU times: user 209 ms, sys: 2.39 ms, total: 211 ms\n",
      "Wall time: 210 ms\n"
     ]
    },
    {
     "data": {
      "text/plain": [
       "GradientBoostingClassifier()"
      ]
     },
     "execution_count": 65,
     "metadata": {},
     "output_type": "execute_result"
    }
   ],
   "source": [
    "%%time\n",
    "model = GradientBoostingClassifier()\n",
    "model.fit(train_X, train_y)"
   ]
  },
  {
   "cell_type": "code",
   "execution_count": 66,
   "metadata": {},
   "outputs": [],
   "source": [
    "predict_y = model.predict(test_X)"
   ]
  },
  {
   "cell_type": "code",
   "execution_count": 67,
   "metadata": {},
   "outputs": [
    {
     "name": "stdout",
     "output_type": "stream",
     "text": [
      "accuracy = 0.976\n",
      "precision = 0.984\n",
      "recall = 0.980\n",
      "f1_score = 0.982\n",
      "\n"
     ]
    }
   ],
   "source": [
    "metrics(test_y, predict_y, 'GBC')"
   ]
  },
  {
   "cell_type": "markdown",
   "metadata": {},
   "source": [
    "## 4.7 Случайный лес"
   ]
  },
  {
   "cell_type": "code",
   "execution_count": 68,
   "metadata": {},
   "outputs": [],
   "source": [
    "from sklearn.ensemble import RandomForestClassifier"
   ]
  },
  {
   "cell_type": "code",
   "execution_count": 69,
   "metadata": {},
   "outputs": [
    {
     "name": "stdout",
     "output_type": "stream",
     "text": [
      "CPU times: user 194 ms, sys: 3.28 ms, total: 197 ms\n",
      "Wall time: 197 ms\n"
     ]
    },
    {
     "data": {
      "text/plain": [
       "RandomForestClassifier()"
      ]
     },
     "execution_count": 69,
     "metadata": {},
     "output_type": "execute_result"
    }
   ],
   "source": [
    "%%time\n",
    "model = RandomForestClassifier()\n",
    "model.fit(train_X, train_y)"
   ]
  },
  {
   "cell_type": "code",
   "execution_count": 70,
   "metadata": {},
   "outputs": [],
   "source": [
    "predict_y = model.predict(test_X)"
   ]
  },
  {
   "cell_type": "code",
   "execution_count": 71,
   "metadata": {},
   "outputs": [
    {
     "name": "stdout",
     "output_type": "stream",
     "text": [
      "accuracy = 0.980\n",
      "precision = 0.982\n",
      "recall = 0.986\n",
      "f1_score = 0.984\n",
      "\n"
     ]
    }
   ],
   "source": [
    "metrics(test_y, predict_y, 'RFC')"
   ]
  },
  {
   "cell_type": "markdown",
   "metadata": {},
   "source": [
    "# 5 Вывод"
   ]
  },
  {
   "cell_type": "code",
   "execution_count": 72,
   "metadata": {},
   "outputs": [],
   "source": [
    "def plot(scores, title, xlabel, ylabel):\n",
    "    plt.title(title)\n",
    "    plt.xlabel(xlabel)\n",
    "    plt.ylabel(ylabel)\n",
    "    \n",
    "    for column in scores.columns:\n",
    "        plt.plot(scores[column], marker='o')\n",
    "    plt.legend(scores.columns, loc='lower right')\n",
    "    plt.grid()\n",
    "    plt.show()"
   ]
  },
  {
   "cell_type": "code",
   "execution_count": 73,
   "metadata": {},
   "outputs": [
    {
     "data": {
      "image/png": "[encoded data removed]",
      "text/plain": [
       "<Figure size 432x288 with 1 Axes>"
      ]
     },
     "metadata": {
      "needs_background": "light"
     },
     "output_type": "display_data"
    }
   ],
   "source": [
    "plot(scores, 'Score', 'Classifier', 'Score')"
   ]
  },
  {
   "cell_type": "code",
   "execution_count": null,
   "metadata": {},
   "outputs": [],
   "source": []
  }
 ],
 "metadata": {
  "kernelspec": {
   "display_name": "Python 3",
   "language": "python",
   "name": "python3"
  },
  "language_info": {
   "codemirror_mode": {
    "name": "ipython",
    "version": 3
   },
   "file_extension": ".py",
   "mimetype": "text/x-python",
   "name": "python",
   "nbconvert_exporter": "python",
   "pygments_lexer": "ipython3",
   "version": "3.7.7"
  }
 },
 "nbformat": 4,
 "nbformat_minor": 4
}
